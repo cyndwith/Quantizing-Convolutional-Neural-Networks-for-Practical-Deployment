{
  "cells": [
    {
      "cell_type": "code",
      "source": [
        "!pip install tf2onnx"
      ],
      "metadata": {
        "colab": {
          "base_uri": "https://localhost:8080/"
        },
        "id": "9vOd_4KhXOvr",
        "outputId": "8a426cb6-7381-4746-85ba-2e131fb31630"
      },
      "execution_count": 3,
      "outputs": [
        {
          "output_type": "stream",
          "name": "stdout",
          "text": [
            "Requirement already satisfied: tf2onnx in /usr/local/lib/python3.10/dist-packages (1.16.1)\n",
            "Requirement already satisfied: numpy>=1.14.1 in /usr/local/lib/python3.10/dist-packages (from tf2onnx) (1.25.2)\n",
            "Requirement already satisfied: onnx>=1.4.1 in /usr/local/lib/python3.10/dist-packages (from tf2onnx) (1.15.0)\n",
            "Requirement already satisfied: requests in /usr/local/lib/python3.10/dist-packages (from tf2onnx) (2.31.0)\n",
            "Requirement already satisfied: six in /usr/local/lib/python3.10/dist-packages (from tf2onnx) (1.16.0)\n",
            "Requirement already satisfied: flatbuffers>=1.12 in /usr/local/lib/python3.10/dist-packages (from tf2onnx) (23.5.26)\n",
            "Requirement already satisfied: protobuf~=3.20 in /usr/local/lib/python3.10/dist-packages (from tf2onnx) (3.20.3)\n",
            "Requirement already satisfied: charset-normalizer<4,>=2 in /usr/local/lib/python3.10/dist-packages (from requests->tf2onnx) (3.3.2)\n",
            "Requirement already satisfied: idna<4,>=2.5 in /usr/local/lib/python3.10/dist-packages (from requests->tf2onnx) (3.6)\n",
            "Requirement already satisfied: urllib3<3,>=1.21.1 in /usr/local/lib/python3.10/dist-packages (from requests->tf2onnx) (2.0.7)\n",
            "Requirement already satisfied: certifi>=2017.4.17 in /usr/local/lib/python3.10/dist-packages (from requests->tf2onnx) (2024.2.2)\n"
          ]
        }
      ]
    },
    {
      "cell_type": "code",
      "execution_count": 2,
      "metadata": {
        "id": "n-TWDwPDitRo"
      },
      "outputs": [],
      "source": [
        "import numpy as np\n",
        "import tensorflow as tf\n",
        "from tensorflow import keras\n",
        "from tensorflow.keras.datasets import cifar10, cifar100\n",
        "from tensorflow.keras.utils import to_categorical\n",
        "from tensorflow.keras.applications import ResNet50, EfficientNetB2, MobileNetV3Small\n",
        "from tensorflow.keras.layers import Dense, GlobalAveragePooling2D, Dropout\n",
        "from tensorflow.keras.models import Model\n",
        "from tqdm import tqdm\n",
        "import tf2onnx"
      ]
    },
    {
      "cell_type": "code",
      "execution_count": 4,
      "metadata": {
        "id": "ZrpNF0o2iwag",
        "colab": {
          "base_uri": "https://localhost:8080/"
        },
        "outputId": "11a218ca-0235-4102-ac7f-2d7962f95b3b"
      },
      "outputs": [
        {
          "output_type": "stream",
          "name": "stdout",
          "text": [
            "Downloading data from https://www.cs.toronto.edu/~kriz/cifar-10-python.tar.gz\n",
            "170498071/170498071 [==============================] - 3s 0us/step\n"
          ]
        }
      ],
      "source": [
        "# Load CIFAR-10 dataset\n",
        "img_size = 112\n",
        "batch_size = 32\n",
        "(train_images, train_labels), (test_images, test_labels) = cifar10.load_data()\n",
        "\n",
        "# Resize CIFAR-10 images to match MobileNetV2 input shape (224, 224)\n",
        "train_images = tf.image.resize(train_images, (img_size, img_size))\n",
        "test_images = tf.image.resize(test_images, (img_size, img_size))\n",
        "\n",
        "# Convert class vectors to binary class matrices\n",
        "num_classes = 10\n",
        "train_labels = to_categorical(train_labels, num_classes)\n",
        "test_labels = to_categorical(test_labels, num_classes)\n",
        "\n",
        "# Create TensorFlow datasets\n",
        "train_dataset = tf.data.Dataset.from_tensor_slices((train_images, train_labels)).batch(batch_size)\n",
        "test_dataset = tf.data.Dataset.from_tensor_slices((test_images, test_labels)).batch(batch_size)\n",
        "# train_dataset = train_dataset.shuffle(buffer_size=10000).batch(batch_size).prefetch(buffer_size=tf.data.experimental.AUTOTUNE)\n",
        "# test_dataset = train_dataset.shuffle(buffer_size=10000).batch(batch_size).prefetch(buffer_size=tf.data.experimental.AUTOTUNE)"
      ]
    },
    {
      "cell_type": "markdown",
      "source": [],
      "metadata": {
        "id": "erZdNZoNby7E"
      }
    },
    {
      "cell_type": "code",
      "execution_count": 27,
      "metadata": {
        "id": "BzCS867Hi1Dp",
        "colab": {
          "base_uri": "https://localhost:8080/"
        },
        "outputId": "7645369a-3c68-4c84-d06b-e011b0ce6014"
      },
      "outputs": [
        {
          "output_type": "stream",
          "name": "stderr",
          "text": [
            "WARNING:tensorflow:`input_shape` is undefined or non-square, or `rows` is not 224. Weights for input shape (224, 224) will be loaded as the default.\n"
          ]
        }
      ],
      "source": [
        "model_type = 'MobileNetV3Small'\n",
        "\n",
        "if model_type == 'MobileNetV3Small':\n",
        "    base_model = MobileNetV3Small(weights='imagenet', include_top=False, input_shape=(img_size, img_size, 3))\n",
        "elif model_type == 'EfficientNetB2':\n",
        "    base_model = EfficientNetB2(weights='imagenet', include_top=False, input_shape=(img_size, img_size, 3))\n",
        "elif model_type == 'ResNet50':\n",
        "    base_model = ResNet50(weights='imagenet', include_top=False, input_shape=(img_size, img_size, 3))\n",
        "else:\n",
        "    base_model = ResNet50(weights='imagenet', include_top=False, input_shape=(img_size, img_size, 3))\n",
        "\n",
        "# Add new classification layers\n",
        "x = base_model.output\n",
        "x = GlobalAveragePooling2D()(x)\n",
        "x = Dense(1024, activation='relu')(x)\n",
        "x = Dropout(0.5)(x)\n",
        "x = Dense(256, activation='relu')(x)\n",
        "predictions = Dense(num_classes, activation='softmax')(x)\n",
        "\n",
        "# Combine base model and new layers\n",
        "model = Model(inputs=base_model.input, outputs=predictions)\n",
        "\n",
        "# Freeze layers in base model\n",
        "for layer in base_model.layers:\n",
        "    layer.trainable = False\n",
        "\n",
        "# Compile the model\n",
        "model.compile(optimizer='adam',\n",
        "              loss='categorical_crossentropy',\n",
        "              metrics=['accuracy'])"
      ]
    },
    {
      "cell_type": "code",
      "source": [
        "# Train the model\n",
        "epochs = 10\n",
        "model.fit(train_dataset, epochs=epochs, batch_size=batch_size, validation_data=test_dataset)"
      ],
      "metadata": {
        "id": "umgmCh4ebYQA",
        "colab": {
          "base_uri": "https://localhost:8080/"
        },
        "outputId": "007a6642-b810-47ee-f55d-fde25fe42f35"
      },
      "execution_count": 29,
      "outputs": [
        {
          "output_type": "stream",
          "name": "stdout",
          "text": [
            "Epoch 1/10\n",
            "1563/1563 [==============================] - 17s 11ms/step - loss: 0.3730 - accuracy: 0.8662 - val_loss: 0.5235 - val_accuracy: 0.8263\n",
            "Epoch 2/10\n",
            "1563/1563 [==============================] - 16s 10ms/step - loss: 0.3582 - accuracy: 0.8721 - val_loss: 0.5159 - val_accuracy: 0.8318\n",
            "Epoch 3/10\n",
            "1563/1563 [==============================] - 17s 11ms/step - loss: 0.3415 - accuracy: 0.8779 - val_loss: 0.5356 - val_accuracy: 0.8270\n",
            "Epoch 4/10\n",
            "1563/1563 [==============================] - 16s 11ms/step - loss: 0.3306 - accuracy: 0.8820 - val_loss: 0.5300 - val_accuracy: 0.8325\n",
            "Epoch 5/10\n",
            "1563/1563 [==============================] - 16s 11ms/step - loss: 0.3206 - accuracy: 0.8846 - val_loss: 0.5211 - val_accuracy: 0.8299\n",
            "Epoch 6/10\n",
            "1563/1563 [==============================] - 17s 11ms/step - loss: 0.3034 - accuracy: 0.8912 - val_loss: 0.5281 - val_accuracy: 0.8344\n",
            "Epoch 7/10\n",
            "1563/1563 [==============================] - 17s 11ms/step - loss: 0.2965 - accuracy: 0.8922 - val_loss: 0.5187 - val_accuracy: 0.8410\n",
            "Epoch 8/10\n",
            "1563/1563 [==============================] - 17s 11ms/step - loss: 0.2796 - accuracy: 0.8985 - val_loss: 0.5373 - val_accuracy: 0.8346\n",
            "Epoch 9/10\n",
            "1563/1563 [==============================] - 18s 11ms/step - loss: 0.2764 - accuracy: 0.8999 - val_loss: 0.5301 - val_accuracy: 0.8387\n",
            "Epoch 10/10\n",
            "1563/1563 [==============================] - 17s 11ms/step - loss: 0.2598 - accuracy: 0.9055 - val_loss: 0.5516 - val_accuracy: 0.8365\n"
          ]
        },
        {
          "output_type": "execute_result",
          "data": {
            "text/plain": [
              "<keras.src.callbacks.History at 0x7ee11428b610>"
            ]
          },
          "metadata": {},
          "execution_count": 29
        }
      ]
    },
    {
      "cell_type": "code",
      "source": [
        "# Evaluate the model\n",
        "test_loss, test_acc = model.evaluate(test_dataset)\n",
        "print('Test accuracy:', test_acc)"
      ],
      "metadata": {
        "colab": {
          "base_uri": "https://localhost:8080/"
        },
        "id": "GBE01cFecHMW",
        "outputId": "c4565fe2-a293-4312-a779-4b8ad532516c"
      },
      "execution_count": 30,
      "outputs": [
        {
          "output_type": "stream",
          "name": "stdout",
          "text": [
            "313/313 [==============================] - 3s 9ms/step - loss: 0.5516 - accuracy: 0.8365\n",
            "Test accuracy: 0.8364999890327454\n"
          ]
        }
      ]
    },
    {
      "cell_type": "code",
      "source": [
        "# Save the entire model to a HDF5 file\n",
        "model.save('tf_{}_cifar10_model.h5'.format(model_type))\n",
        "print(\"Model saved successfully.\")"
      ],
      "metadata": {
        "colab": {
          "base_uri": "https://localhost:8080/"
        },
        "id": "YfMAcAZaIjmh",
        "outputId": "1c51427c-61d8-4eab-dc59-b97bd9694774"
      },
      "execution_count": 31,
      "outputs": [
        {
          "output_type": "stream",
          "name": "stderr",
          "text": [
            "/usr/local/lib/python3.10/dist-packages/keras/src/engine/training.py:3103: UserWarning: You are saving your model as an HDF5 file via `model.save()`. This file format is considered legacy. We recommend using instead the native Keras format, e.g. `model.save('my_model.keras')`.\n",
            "  saving_api.save_model(\n"
          ]
        },
        {
          "output_type": "stream",
          "name": "stdout",
          "text": [
            "Model saved successfully.\n"
          ]
        }
      ]
    },
    {
      "cell_type": "code",
      "source": [
        "# Load the model\n",
        "model = tf.keras.models.load_model('tf_{}_cifar10_model.h5'.format(model_type))\n",
        "print(\"Model loaded successfully.\")"
      ],
      "metadata": {
        "colab": {
          "base_uri": "https://localhost:8080/"
        },
        "id": "VoyWi5BCI6LE",
        "outputId": "e69cb5ec-fd54-43f6-8501-6bdd94aa637a"
      },
      "execution_count": 32,
      "outputs": [
        {
          "output_type": "stream",
          "name": "stdout",
          "text": [
            "Model loaded successfully.\n"
          ]
        }
      ]
    },
    {
      "cell_type": "code",
      "source": [
        "# Convert the model to TensorFlow Lite with quantization\n",
        "converter = tf.lite.TFLiteConverter.from_keras_model(model)\n",
        "converter.optimizations = [tf.lite.Optimize.DEFAULT]\n",
        "converter.target_spec.supported_ops = [tf.lite.OpsSet.TFLITE_BUILTINS_INT8]\n",
        "converter.inference_input_type = tf.uint8\n",
        "converter.inference_output_type = tf.uint8\n",
        "\n",
        "# Define a generator function to provide calibration data\n",
        "def representative_data_gen():\n",
        "    for images, _ in train_dataset.take(100):\n",
        "        yield [images.numpy().astype(np.float32)]\n",
        "\n",
        "converter.representative_dataset = representative_data_gen\n",
        "\n",
        "# Convert the model to TensorFlow Lite\n",
        "tflite_quant_model = converter.convert()\n",
        "\n",
        "# Save the quantized model to a file\n",
        "with open('quantized_{}_cifar10_model.tflite'.format(model_type), 'wb') as f:\n",
        "    f.write(tflite_quant_model)\n",
        "\n",
        "print(\"Quantized model saved as quantized_{}_cifar10_model.tflite\".format(model_type))"
      ],
      "metadata": {
        "colab": {
          "base_uri": "https://localhost:8080/"
        },
        "id": "4Xdix6gLlwjX",
        "outputId": "5831b196-170d-4f60-8fe0-c5bf4e181073"
      },
      "execution_count": 33,
      "outputs": [
        {
          "output_type": "stream",
          "name": "stderr",
          "text": [
            "/usr/local/lib/python3.10/dist-packages/tensorflow/lite/python/convert.py:953: UserWarning: Statistics for quantized inputs were expected, but not specified; continuing anyway.\n",
            "  warnings.warn(\n"
          ]
        },
        {
          "output_type": "stream",
          "name": "stdout",
          "text": [
            "Quantized model saved as quantized_MobileNetV3Small_cifar10_model.tflite\n"
          ]
        }
      ]
    },
    {
      "cell_type": "code",
      "execution_count": null,
      "metadata": {
        "id": "36YGVLW1iWLB"
      },
      "outputs": [],
      "source": [
        "# Load the quantized model\n",
        "interpreter = tf.lite.Interpreter(model_content=tflite_quant_model)\n",
        "interpreter.allocate_tensors()\n",
        "\n",
        "# Get input and output details\n",
        "input_details = interpreter.get_input_details()[0]\n",
        "output_details = interpreter.get_output_details()[0]\n",
        "print(input_details['shape'])\n",
        "# Evaluate the model on the test dataset\n",
        "total_accuracy = 0.0\n",
        "num_eval_samples = 0\n",
        "\n",
        "for test_image, test_label in tqdm(zip(test_images, test_labels)):\n",
        "# for test_image, test_label in test_dataset:\n",
        "    # Check if the input type is quantized, then rescale input data to uint8\n",
        "    if input_details['dtype'] == np.uint8:\n",
        "      input_scale, input_zero_point = input_details[\"quantization\"]\n",
        "      test_image = test_image / input_scale + input_zero_point\n",
        "\n",
        "    # Add batch dimension\n",
        "    # print(test_image.shape)\n",
        "    test_image = np.expand_dims(test_image.numpy(), axis=0).astype(input_details[\"dtype\"])\n",
        "\n",
        "    interpreter.set_tensor(input_details['index'], test_image)\n",
        "    interpreter.invoke()\n",
        "\n",
        "    # Get output tensor\n",
        "    output = interpreter.get_tensor(output_details['index'])\n",
        "\n",
        "    # Compare prediction to true label\n",
        "    predicted_label = np.argmax(output)\n",
        "    true_label = np.argmax(test_label)\n",
        "    if predicted_label == true_label:\n",
        "        total_accuracy += 1\n",
        "\n",
        "    num_eval_samples += 1\n",
        "\n",
        "# Calculate overall accuracy\n",
        "accuracy = total_accuracy / num_eval_samples\n",
        "print(\"Accuracy:\", accuracy)"
      ]
    },
    {
      "cell_type": "code",
      "source": [
        "# Convert the model to TensorFlow Lite with quantization\n",
        "converter = tf.lite.TFLiteConverter.from_keras_model(model)\n",
        "converter.optimizations = [tf.lite.Optimize.DEFAULT]\n",
        "converter.target_spec.supported_types = [tf.float16]\n",
        "# converter.inference_input_type = tf.float16\n",
        "# converter.inference_output_type = tf.float16\n",
        "\n",
        "# Define a generator function to provide calibration data\n",
        "def representative_data_gen():\n",
        "    for images, _ in train_dataset.take(100):\n",
        "        yield [images.numpy().astype(np.float32)]\n",
        "\n",
        "converter.representative_dataset = representative_data_gen\n",
        "\n",
        "# Convert the model to TensorFlow Lite\n",
        "tflite_fp16_model = converter.convert()\n",
        "\n",
        "# Save the quantized model to a file\n",
        "with open('quantized_{}_fp16_cifar10_model.tflite'.format(model_type), 'wb') as f:\n",
        "    f.write(tflite_fp16_model)\n",
        "\n",
        "print(\"Quantized model saved as quantized_{}_fp16_cifar10_model.tflite\".format(model_type))"
      ],
      "metadata": {
        "colab": {
          "base_uri": "https://localhost:8080/"
        },
        "id": "b_oLPrx-kDi8",
        "outputId": "583d24cf-ef13-4eee-da74-58d020830f82"
      },
      "execution_count": 35,
      "outputs": [
        {
          "output_type": "stream",
          "name": "stdout",
          "text": [
            "Quantized model saved as quantized_MobileNetV3Small_fp16_cifar10_model.tflite\n"
          ]
        }
      ]
    },
    {
      "cell_type": "code",
      "source": [
        "# Convert the model to TensorFlow Lite with quantization\n",
        "converter = tf.lite.TFLiteConverter.from_keras_model(model)\n",
        "converter.optimizations = [tf.lite.Optimize.DEFAULT]\n",
        "converter.target_spec.supported_ops = [tf.lite.OpsSet.EXPERIMENTAL_TFLITE_BUILTINS_ACTIVATIONS_INT16_WEIGHTS_INT8,\n",
        "                                       tf.lite.OpsSet.TFLITE_BUILTINS]\n",
        "\n",
        "# Define a generator function to provide calibration data\n",
        "def representative_data_gen():\n",
        "    for images, _ in train_dataset.take(100):\n",
        "        yield [images.numpy().astype(np.float32)]\n",
        "\n",
        "converter.representative_dataset = representative_data_gen\n",
        "\n",
        "# Convert the model to TensorFlow Lite\n",
        "tflite_int16_model = converter.convert()\n",
        "\n",
        "# Save the quantized model to a file\n",
        "with open('quantized_{}_int16_cifar10_model.tflite'.format(model_type), 'wb') as f:\n",
        "    f.write(tflite_int16_model)\n",
        "\n",
        "print(\"Quantized model saved as quantized_{}_int16_cifar10_model.tflite\".format(model_type))"
      ],
      "metadata": {
        "id": "vRAE9L4AnYd7",
        "colab": {
          "base_uri": "https://localhost:8080/"
        },
        "outputId": "2c567158-a8d5-4e20-a046-5b796f3ccdf5"
      },
      "execution_count": 36,
      "outputs": [
        {
          "output_type": "stream",
          "name": "stdout",
          "text": [
            "Quantized model saved as quantized_MobileNetV3Small_int16_cifar10_model.tflite\n"
          ]
        }
      ]
    },
    {
      "cell_type": "code",
      "source": [
        "def evaluate_quant_model(quant_model):\n",
        "  # Load the quantized model\n",
        "  interpreter = tf.lite.Interpreter(model_content=quant_model)\n",
        "  interpreter.allocate_tensors()\n",
        "\n",
        "  # Get input and output details\n",
        "  input_details = interpreter.get_input_details()[0]\n",
        "  output_details = interpreter.get_output_details()[0]\n",
        "  # Evaluate the model on the test dataset\n",
        "  total_accuracy = 0.0\n",
        "  num_eval_samples = 0\n",
        "\n",
        "  for test_image, test_label in tqdm(zip(test_images, test_labels)):\n",
        "    # Check if the input type is quantized, then rescale input data to uint8\n",
        "    if input_details['dtype'] == np.uint8:\n",
        "      input_scale, input_zero_point = input_details[\"quantization\"]\n",
        "      test_image = test_image / input_scale + input_zero_point\n",
        "\n",
        "    # Add batch dimension\n",
        "    # print(test_image.shape)\n",
        "    test_image = np.expand_dims(test_image.numpy(), axis=0).astype(input_details[\"dtype\"])\n",
        "\n",
        "    interpreter.set_tensor(input_details['index'], test_image)\n",
        "    interpreter.invoke()\n",
        "\n",
        "    # Get output tensor\n",
        "    output = interpreter.get_tensor(output_details['index'])\n",
        "\n",
        "    # Compare prediction to true label\n",
        "    predicted_label = np.argmax(output)\n",
        "    true_label = np.argmax(test_label)\n",
        "    if predicted_label == true_label:\n",
        "        total_accuracy += 1\n",
        "\n",
        "    num_eval_samples += 1\n",
        "\n",
        "  # Calculate overall accuracy\n",
        "  accuracy = total_accuracy / num_eval_samples\n",
        "  print(\"Accuracy:\", accuracy)"
      ],
      "metadata": {
        "id": "qnuUeiYunFCN"
      },
      "execution_count": 37,
      "outputs": []
    },
    {
      "cell_type": "code",
      "source": [
        "print(\"FP16 Accuracy\")\n",
        "evaluate_quant_model(tflite_fp16_model)\n",
        "print(\"INT8 Accuracy\")\n",
        "evaluate_quant_model(tflite_quant_model)\n",
        "print(\"INT16 Accuracy\")\n",
        "evaluate_quant_model(tflite_int16_model)"
      ],
      "metadata": {
        "colab": {
          "base_uri": "https://localhost:8080/"
        },
        "id": "qaCVjUVonuX0",
        "outputId": "177cd54c-ff4b-40f8-9709-45c1315cefdf"
      },
      "execution_count": 38,
      "outputs": [
        {
          "output_type": "stream",
          "name": "stdout",
          "text": [
            "FP16 Accuracy\n"
          ]
        },
        {
          "output_type": "stream",
          "name": "stderr",
          "text": [
            "10000it [00:18, 548.52it/s]\n"
          ]
        },
        {
          "output_type": "stream",
          "name": "stdout",
          "text": [
            "Accuracy: 0.8368\n",
            "INT8 Accuracy\n"
          ]
        },
        {
          "output_type": "stream",
          "name": "stderr",
          "text": [
            "10000it [00:37, 267.76it/s]\n"
          ]
        },
        {
          "output_type": "stream",
          "name": "stdout",
          "text": [
            "Accuracy: 0.4526\n",
            "INT16 Accuracy\n"
          ]
        },
        {
          "output_type": "stream",
          "name": "stderr",
          "text": [
            "10000it [03:39, 45.59it/s]"
          ]
        },
        {
          "output_type": "stream",
          "name": "stdout",
          "text": [
            "Accuracy: 0.7979\n"
          ]
        },
        {
          "output_type": "stream",
          "name": "stderr",
          "text": [
            "\n"
          ]
        }
      ]
    },
    {
      "cell_type": "code",
      "source": [
        "def evaluate_quant_model(quant_model, test_dataset):\n",
        "    # Load the quantized model\n",
        "    interpreter = tf.lite.Interpreter(model_content=quant_model)\n",
        "    interpreter.allocate_tensors()\n",
        "\n",
        "    # Get input and output details\n",
        "    input_details = interpreter.get_input_details()[0]\n",
        "    output_details = interpreter.get_output_details()[0]\n",
        "    # Evaluate the model on the test dataset\n",
        "    total_accuracy = 0.0\n",
        "    num_eval_samples = 0\n",
        "\n",
        "    for test_image_batch, test_label_batch in tqdm(test_dataset):\n",
        "        batch_size = test_image_batch.shape[0]\n",
        "\n",
        "        # Check if the input type is quantized, then rescale input data to uint8\n",
        "        if input_details['dtype'] == np.uint8:\n",
        "            input_scale, input_zero_point = input_details[\"quantization\"]\n",
        "            test_image_batch = test_image_batch / input_scale + input_zero_point\n",
        "\n",
        "\n",
        "        # Add batch dimension\n",
        "        test_image_batch = test_image_batch.numpy().astype(input_details[\"dtype\"])\n",
        "\n",
        "        # Set input tensor\n",
        "        interpreter.set_tensor(input_details['index'], test_image_batch)\n",
        "\n",
        "        # Run inference\n",
        "        interpreter.invoke()\n",
        "\n",
        "        # Get output tensor\n",
        "        output_batch = interpreter.get_tensor(output_details['index'])\n",
        "\n",
        "        # Compare prediction to true label\n",
        "        predicted_labels = np.argmax(output_batch, axis=1)\n",
        "        true_labels = np.argmax(test_label_batch.numpy(), axis=1)\n",
        "\n",
        "        # Calculate accuracy for this batch\n",
        "        batch_accuracy = np.mean(np.equal(predicted_labels, true_labels))\n",
        "\n",
        "        # Update total accuracy and number of samples\n",
        "        total_accuracy += batch_accuracy * batch_size\n",
        "        num_eval_samples += batch_size\n",
        "\n",
        "    # Calculate overall accuracy\n",
        "    accuracy = total_accuracy / num_eval_samples\n",
        "    print(\"Accuracy:\", accuracy)"
      ],
      "metadata": {
        "id": "Mmud38bIYBtl"
      },
      "execution_count": 25,
      "outputs": []
    },
    {
      "cell_type": "code",
      "source": [
        "print(\"FP16 Accuracy\")\n",
        "evaluate_quant_model(tflite_fp16_model, test_dataset)\n",
        "print(\"INT8 Accuracy\")\n",
        "evaluate_quant_model(tflite_quant_model, test_dataset)\n",
        "print(\"INT16 Accuracy\")\n",
        "evaluate_quant_model(tflite_int16_model, test_dataset)"
      ],
      "metadata": {
        "id": "x1EGDwDYYH7s"
      },
      "execution_count": null,
      "outputs": []
    },
    {
      "cell_type": "code",
      "source": [
        "import pandas as pd\n",
        "import matplotlib.pyplot as plt"
      ],
      "metadata": {
        "id": "BLNDiHCTuvQ9"
      },
      "execution_count": 39,
      "outputs": []
    },
    {
      "cell_type": "code",
      "source": [
        "# Convert the model to TensorFlow Lite with quantization\n",
        "converter = tf.lite.TFLiteConverter.from_keras_model(model)\n",
        "converter.optimizations = [tf.lite.Optimize.DEFAULT]\n",
        "converter.target_spec.supported_ops = [tf.lite.OpsSet.TFLITE_BUILTINS_INT8]\n",
        "converter.inference_input_type = tf.uint8\n",
        "converter.inference_output_type = tf.uint8\n",
        "# Define a generator function to provide calibration data\n",
        "def representative_data_gen():\n",
        "    for images, _ in train_dataset.take(100):\n",
        "        yield [images.numpy().astype(np.float32)]\n",
        "\n",
        "converter.representative_dataset = representative_data_gen\n",
        "\n",
        "debugger = tf.lite.experimental.QuantizationDebugger(\n",
        "    converter=converter, debug_dataset=converter.representative_dataset)\n",
        "\n",
        "debugger.run()\n",
        "\n",
        "RESULTS_FILE = 'debugger_results.csv'\n",
        "with open(RESULTS_FILE, 'w') as f:\n",
        "  debugger.layer_statistics_dump(f)\n",
        "\n",
        "layer_stats = pd.read_csv(RESULTS_FILE)\n",
        "layer_stats.head()"
      ],
      "metadata": {
        "colab": {
          "base_uri": "https://localhost:8080/",
          "height": 349
        },
        "id": "xv8hM1GuogSq",
        "outputId": "bca8a4bb-22fa-4b96-a602-7fdb44b3ec57"
      },
      "execution_count": 40,
      "outputs": [
        {
          "output_type": "stream",
          "name": "stderr",
          "text": [
            "/usr/local/lib/python3.10/dist-packages/tensorflow/lite/python/convert.py:953: UserWarning: Statistics for quantized inputs were expected, but not specified; continuing anyway.\n",
            "  warnings.warn(\n"
          ]
        },
        {
          "output_type": "execute_result",
          "data": {
            "text/plain": [
              "      op_name  tensor_idx  num_elements        stddev    mean_error  \\\n",
              "0         MUL         233     1204224.0  3.907464e-03 -8.082945e-06   \n",
              "1         ADD         237     1204224.0  1.852267e-03  1.317683e-03   \n",
              "2     CONV_2D         241     1605632.0  2.438858e-02  7.999366e-04   \n",
              "3  HARD_SWISH         245     1605632.0  1.896683e-02  3.963854e-03   \n",
              "4         PAD         249     1663488.0  2.236330e-07  3.379920e-07   \n",
              "\n",
              "   max_abs_error  mean_squared_error     scale  zero_point  \\\n",
              "0       0.007843        1.526868e-05  0.011765         -43   \n",
              "1       0.003922        5.167414e-06  0.007843          -1   \n",
              "2       0.074648        5.955087e-04  0.083595         -80   \n",
              "3       0.034734        3.754979e-04  0.069208        -123   \n",
              "4       0.000001        1.642555e-13  0.069208        -123   \n",
              "\n",
              "                                         tensor_name  \n",
              "0                            model_1/rescaling_1/mul  \n",
              "1                            model_1/rescaling_1/add  \n",
              "2  model_1/Conv/BatchNorm/FusedBatchNormV3;model_...  \n",
              "3  model_1/multiply_18/mul;model_1/tf.__operators...  \n",
              "4            model_1/expanded_conv/depthwise/pad/Pad  "
            ],
            "text/html": [
              "\n",
              "  <div id=\"df-b9a7e5c3-3945-4692-a675-87da341b418f\" class=\"colab-df-container\">\n",
              "    <div>\n",
              "<style scoped>\n",
              "    .dataframe tbody tr th:only-of-type {\n",
              "        vertical-align: middle;\n",
              "    }\n",
              "\n",
              "    .dataframe tbody tr th {\n",
              "        vertical-align: top;\n",
              "    }\n",
              "\n",
              "    .dataframe thead th {\n",
              "        text-align: right;\n",
              "    }\n",
              "</style>\n",
              "<table border=\"1\" class=\"dataframe\">\n",
              "  <thead>\n",
              "    <tr style=\"text-align: right;\">\n",
              "      <th></th>\n",
              "      <th>op_name</th>\n",
              "      <th>tensor_idx</th>\n",
              "      <th>num_elements</th>\n",
              "      <th>stddev</th>\n",
              "      <th>mean_error</th>\n",
              "      <th>max_abs_error</th>\n",
              "      <th>mean_squared_error</th>\n",
              "      <th>scale</th>\n",
              "      <th>zero_point</th>\n",
              "      <th>tensor_name</th>\n",
              "    </tr>\n",
              "  </thead>\n",
              "  <tbody>\n",
              "    <tr>\n",
              "      <th>0</th>\n",
              "      <td>MUL</td>\n",
              "      <td>233</td>\n",
              "      <td>1204224.0</td>\n",
              "      <td>3.907464e-03</td>\n",
              "      <td>-8.082945e-06</td>\n",
              "      <td>0.007843</td>\n",
              "      <td>1.526868e-05</td>\n",
              "      <td>0.011765</td>\n",
              "      <td>-43</td>\n",
              "      <td>model_1/rescaling_1/mul</td>\n",
              "    </tr>\n",
              "    <tr>\n",
              "      <th>1</th>\n",
              "      <td>ADD</td>\n",
              "      <td>237</td>\n",
              "      <td>1204224.0</td>\n",
              "      <td>1.852267e-03</td>\n",
              "      <td>1.317683e-03</td>\n",
              "      <td>0.003922</td>\n",
              "      <td>5.167414e-06</td>\n",
              "      <td>0.007843</td>\n",
              "      <td>-1</td>\n",
              "      <td>model_1/rescaling_1/add</td>\n",
              "    </tr>\n",
              "    <tr>\n",
              "      <th>2</th>\n",
              "      <td>CONV_2D</td>\n",
              "      <td>241</td>\n",
              "      <td>1605632.0</td>\n",
              "      <td>2.438858e-02</td>\n",
              "      <td>7.999366e-04</td>\n",
              "      <td>0.074648</td>\n",
              "      <td>5.955087e-04</td>\n",
              "      <td>0.083595</td>\n",
              "      <td>-80</td>\n",
              "      <td>model_1/Conv/BatchNorm/FusedBatchNormV3;model_...</td>\n",
              "    </tr>\n",
              "    <tr>\n",
              "      <th>3</th>\n",
              "      <td>HARD_SWISH</td>\n",
              "      <td>245</td>\n",
              "      <td>1605632.0</td>\n",
              "      <td>1.896683e-02</td>\n",
              "      <td>3.963854e-03</td>\n",
              "      <td>0.034734</td>\n",
              "      <td>3.754979e-04</td>\n",
              "      <td>0.069208</td>\n",
              "      <td>-123</td>\n",
              "      <td>model_1/multiply_18/mul;model_1/tf.__operators...</td>\n",
              "    </tr>\n",
              "    <tr>\n",
              "      <th>4</th>\n",
              "      <td>PAD</td>\n",
              "      <td>249</td>\n",
              "      <td>1663488.0</td>\n",
              "      <td>2.236330e-07</td>\n",
              "      <td>3.379920e-07</td>\n",
              "      <td>0.000001</td>\n",
              "      <td>1.642555e-13</td>\n",
              "      <td>0.069208</td>\n",
              "      <td>-123</td>\n",
              "      <td>model_1/expanded_conv/depthwise/pad/Pad</td>\n",
              "    </tr>\n",
              "  </tbody>\n",
              "</table>\n",
              "</div>\n",
              "    <div class=\"colab-df-buttons\">\n",
              "\n",
              "  <div class=\"colab-df-container\">\n",
              "    <button class=\"colab-df-convert\" onclick=\"convertToInteractive('df-b9a7e5c3-3945-4692-a675-87da341b418f')\"\n",
              "            title=\"Convert this dataframe to an interactive table.\"\n",
              "            style=\"display:none;\">\n",
              "\n",
              "  <svg xmlns=\"http://www.w3.org/2000/svg\" height=\"24px\" viewBox=\"0 -960 960 960\">\n",
              "    <path d=\"M120-120v-720h720v720H120Zm60-500h600v-160H180v160Zm220 220h160v-160H400v160Zm0 220h160v-160H400v160ZM180-400h160v-160H180v160Zm440 0h160v-160H620v160ZM180-180h160v-160H180v160Zm440 0h160v-160H620v160Z\"/>\n",
              "  </svg>\n",
              "    </button>\n",
              "\n",
              "  <style>\n",
              "    .colab-df-container {\n",
              "      display:flex;\n",
              "      gap: 12px;\n",
              "    }\n",
              "\n",
              "    .colab-df-convert {\n",
              "      background-color: #E8F0FE;\n",
              "      border: none;\n",
              "      border-radius: 50%;\n",
              "      cursor: pointer;\n",
              "      display: none;\n",
              "      fill: #1967D2;\n",
              "      height: 32px;\n",
              "      padding: 0 0 0 0;\n",
              "      width: 32px;\n",
              "    }\n",
              "\n",
              "    .colab-df-convert:hover {\n",
              "      background-color: #E2EBFA;\n",
              "      box-shadow: 0px 1px 2px rgba(60, 64, 67, 0.3), 0px 1px 3px 1px rgba(60, 64, 67, 0.15);\n",
              "      fill: #174EA6;\n",
              "    }\n",
              "\n",
              "    .colab-df-buttons div {\n",
              "      margin-bottom: 4px;\n",
              "    }\n",
              "\n",
              "    [theme=dark] .colab-df-convert {\n",
              "      background-color: #3B4455;\n",
              "      fill: #D2E3FC;\n",
              "    }\n",
              "\n",
              "    [theme=dark] .colab-df-convert:hover {\n",
              "      background-color: #434B5C;\n",
              "      box-shadow: 0px 1px 3px 1px rgba(0, 0, 0, 0.15);\n",
              "      filter: drop-shadow(0px 1px 2px rgba(0, 0, 0, 0.3));\n",
              "      fill: #FFFFFF;\n",
              "    }\n",
              "  </style>\n",
              "\n",
              "    <script>\n",
              "      const buttonEl =\n",
              "        document.querySelector('#df-b9a7e5c3-3945-4692-a675-87da341b418f button.colab-df-convert');\n",
              "      buttonEl.style.display =\n",
              "        google.colab.kernel.accessAllowed ? 'block' : 'none';\n",
              "\n",
              "      async function convertToInteractive(key) {\n",
              "        const element = document.querySelector('#df-b9a7e5c3-3945-4692-a675-87da341b418f');\n",
              "        const dataTable =\n",
              "          await google.colab.kernel.invokeFunction('convertToInteractive',\n",
              "                                                    [key], {});\n",
              "        if (!dataTable) return;\n",
              "\n",
              "        const docLinkHtml = 'Like what you see? Visit the ' +\n",
              "          '<a target=\"_blank\" href=https://colab.research.google.com/notebooks/data_table.ipynb>data table notebook</a>'\n",
              "          + ' to learn more about interactive tables.';\n",
              "        element.innerHTML = '';\n",
              "        dataTable['output_type'] = 'display_data';\n",
              "        await google.colab.output.renderOutput(dataTable, element);\n",
              "        const docLink = document.createElement('div');\n",
              "        docLink.innerHTML = docLinkHtml;\n",
              "        element.appendChild(docLink);\n",
              "      }\n",
              "    </script>\n",
              "  </div>\n",
              "\n",
              "\n",
              "<div id=\"df-680dd2cb-fdc9-445c-b688-0eea60d69e0d\">\n",
              "  <button class=\"colab-df-quickchart\" onclick=\"quickchart('df-680dd2cb-fdc9-445c-b688-0eea60d69e0d')\"\n",
              "            title=\"Suggest charts\"\n",
              "            style=\"display:none;\">\n",
              "\n",
              "<svg xmlns=\"http://www.w3.org/2000/svg\" height=\"24px\"viewBox=\"0 0 24 24\"\n",
              "     width=\"24px\">\n",
              "    <g>\n",
              "        <path d=\"M19 3H5c-1.1 0-2 .9-2 2v14c0 1.1.9 2 2 2h14c1.1 0 2-.9 2-2V5c0-1.1-.9-2-2-2zM9 17H7v-7h2v7zm4 0h-2V7h2v10zm4 0h-2v-4h2v4z\"/>\n",
              "    </g>\n",
              "</svg>\n",
              "  </button>\n",
              "\n",
              "<style>\n",
              "  .colab-df-quickchart {\n",
              "      --bg-color: #E8F0FE;\n",
              "      --fill-color: #1967D2;\n",
              "      --hover-bg-color: #E2EBFA;\n",
              "      --hover-fill-color: #174EA6;\n",
              "      --disabled-fill-color: #AAA;\n",
              "      --disabled-bg-color: #DDD;\n",
              "  }\n",
              "\n",
              "  [theme=dark] .colab-df-quickchart {\n",
              "      --bg-color: #3B4455;\n",
              "      --fill-color: #D2E3FC;\n",
              "      --hover-bg-color: #434B5C;\n",
              "      --hover-fill-color: #FFFFFF;\n",
              "      --disabled-bg-color: #3B4455;\n",
              "      --disabled-fill-color: #666;\n",
              "  }\n",
              "\n",
              "  .colab-df-quickchart {\n",
              "    background-color: var(--bg-color);\n",
              "    border: none;\n",
              "    border-radius: 50%;\n",
              "    cursor: pointer;\n",
              "    display: none;\n",
              "    fill: var(--fill-color);\n",
              "    height: 32px;\n",
              "    padding: 0;\n",
              "    width: 32px;\n",
              "  }\n",
              "\n",
              "  .colab-df-quickchart:hover {\n",
              "    background-color: var(--hover-bg-color);\n",
              "    box-shadow: 0 1px 2px rgba(60, 64, 67, 0.3), 0 1px 3px 1px rgba(60, 64, 67, 0.15);\n",
              "    fill: var(--button-hover-fill-color);\n",
              "  }\n",
              "\n",
              "  .colab-df-quickchart-complete:disabled,\n",
              "  .colab-df-quickchart-complete:disabled:hover {\n",
              "    background-color: var(--disabled-bg-color);\n",
              "    fill: var(--disabled-fill-color);\n",
              "    box-shadow: none;\n",
              "  }\n",
              "\n",
              "  .colab-df-spinner {\n",
              "    border: 2px solid var(--fill-color);\n",
              "    border-color: transparent;\n",
              "    border-bottom-color: var(--fill-color);\n",
              "    animation:\n",
              "      spin 1s steps(1) infinite;\n",
              "  }\n",
              "\n",
              "  @keyframes spin {\n",
              "    0% {\n",
              "      border-color: transparent;\n",
              "      border-bottom-color: var(--fill-color);\n",
              "      border-left-color: var(--fill-color);\n",
              "    }\n",
              "    20% {\n",
              "      border-color: transparent;\n",
              "      border-left-color: var(--fill-color);\n",
              "      border-top-color: var(--fill-color);\n",
              "    }\n",
              "    30% {\n",
              "      border-color: transparent;\n",
              "      border-left-color: var(--fill-color);\n",
              "      border-top-color: var(--fill-color);\n",
              "      border-right-color: var(--fill-color);\n",
              "    }\n",
              "    40% {\n",
              "      border-color: transparent;\n",
              "      border-right-color: var(--fill-color);\n",
              "      border-top-color: var(--fill-color);\n",
              "    }\n",
              "    60% {\n",
              "      border-color: transparent;\n",
              "      border-right-color: var(--fill-color);\n",
              "    }\n",
              "    80% {\n",
              "      border-color: transparent;\n",
              "      border-right-color: var(--fill-color);\n",
              "      border-bottom-color: var(--fill-color);\n",
              "    }\n",
              "    90% {\n",
              "      border-color: transparent;\n",
              "      border-bottom-color: var(--fill-color);\n",
              "    }\n",
              "  }\n",
              "</style>\n",
              "\n",
              "  <script>\n",
              "    async function quickchart(key) {\n",
              "      const quickchartButtonEl =\n",
              "        document.querySelector('#' + key + ' button');\n",
              "      quickchartButtonEl.disabled = true;  // To prevent multiple clicks.\n",
              "      quickchartButtonEl.classList.add('colab-df-spinner');\n",
              "      try {\n",
              "        const charts = await google.colab.kernel.invokeFunction(\n",
              "            'suggestCharts', [key], {});\n",
              "      } catch (error) {\n",
              "        console.error('Error during call to suggestCharts:', error);\n",
              "      }\n",
              "      quickchartButtonEl.classList.remove('colab-df-spinner');\n",
              "      quickchartButtonEl.classList.add('colab-df-quickchart-complete');\n",
              "    }\n",
              "    (() => {\n",
              "      let quickchartButtonEl =\n",
              "        document.querySelector('#df-680dd2cb-fdc9-445c-b688-0eea60d69e0d button');\n",
              "      quickchartButtonEl.style.display =\n",
              "        google.colab.kernel.accessAllowed ? 'block' : 'none';\n",
              "    })();\n",
              "  </script>\n",
              "</div>\n",
              "\n",
              "    </div>\n",
              "  </div>\n"
            ],
            "application/vnd.google.colaboratory.intrinsic+json": {
              "type": "dataframe",
              "variable_name": "layer_stats",
              "summary": "{\n  \"name\": \"layer_stats\",\n  \"rows\": 114,\n  \"fields\": [\n    {\n      \"column\": \"op_name\",\n      \"properties\": {\n        \"dtype\": \"category\",\n        \"num_unique_values\": 9,\n        \"samples\": [\n          \"FULLY_CONNECTED\",\n          \"ADD\",\n          \"DEPTHWISE_CONV_2D\"\n        ],\n        \"semantic_type\": \"\",\n        \"description\": \"\"\n      }\n    },\n    {\n      \"column\": \"tensor_idx\",\n      \"properties\": {\n        \"dtype\": \"number\",\n        \"std\": 132,\n        \"min\": 233,\n        \"max\": 685,\n        \"num_unique_values\": 114,\n        \"samples\": [\n          553,\n          249,\n          393\n        ],\n        \"semantic_type\": \"\",\n        \"description\": \"\"\n      }\n    },\n    {\n      \"column\": \"num_elements\",\n      \"properties\": {\n        \"dtype\": \"number\",\n        \"std\": 395897.747111011,\n        \"min\": 256.0,\n        \"max\": 1937664.0,\n        \"num_unique_values\": 36,\n        \"samples\": [\n          320.0,\n          3072.0,\n          1115136.0\n        ],\n        \"semantic_type\": \"\",\n        \"description\": \"\"\n      }\n    },\n    {\n      \"column\": \"stddev\",\n      \"properties\": {\n        \"dtype\": \"number\",\n        \"std\": 0.08068488967116609,\n        \"min\": 0.0,\n        \"max\": 0.41660416,\n        \"num_unique_values\": 113,\n        \"samples\": [\n          0.008092042,\n          2.2363297e-07,\n          0.10983507\n        ],\n        \"semantic_type\": \"\",\n        \"description\": \"\"\n      }\n    },\n    {\n      \"column\": \"mean_error\",\n      \"properties\": {\n        \"dtype\": \"number\",\n        \"std\": 0.010719757988036474,\n        \"min\": -0.06942372,\n        \"max\": 0.046691146,\n        \"num_unique_values\": 113,\n        \"samples\": [\n          7.3707626e-05,\n          3.3799202e-07,\n          -5.285602e-07\n        ],\n        \"semantic_type\": \"\",\n        \"description\": \"\"\n      }\n    },\n    {\n      \"column\": \"max_abs_error\",\n      \"properties\": {\n        \"dtype\": \"number\",\n        \"std\": 0.27650460773475277,\n        \"min\": 0.0,\n        \"max\": 1.5538167,\n        \"num_unique_values\": 106,\n        \"samples\": [\n          0.100595474,\n          1.5538167,\n          1.3732911e-06\n        ],\n        \"semantic_type\": \"\",\n        \"description\": \"\"\n      }\n    },\n    {\n      \"column\": \"mean_squared_error\",\n      \"properties\": {\n        \"dtype\": \"number\",\n        \"std\": 0.02760277213858215,\n        \"min\": 0.0,\n        \"max\": 0.17366117,\n        \"num_unique_values\": 113,\n        \"samples\": [\n          6.549449e-05,\n          1.6425553e-13,\n          0.012063933\n        ],\n        \"semantic_type\": \"\",\n        \"description\": \"\"\n      }\n    },\n    {\n      \"column\": \"scale\",\n      \"properties\": {\n        \"dtype\": \"number\",\n        \"std\": 0.252806156189619,\n        \"min\": 0.00011784166,\n        \"max\": 1.425657,\n        \"num_unique_values\": 90,\n        \"samples\": [\n          0.045881554,\n          0.041633762,\n          0.022226892\n        ],\n        \"semantic_type\": \"\",\n        \"description\": \"\"\n      }\n    },\n    {\n      \"column\": \"zero_point\",\n      \"properties\": {\n        \"dtype\": \"number\",\n        \"std\": 60,\n        \"min\": -128,\n        \"max\": 53,\n        \"num_unique_values\": 45,\n        \"samples\": [\n          -107,\n          17,\n          -119\n        ],\n        \"semantic_type\": \"\",\n        \"description\": \"\"\n      }\n    },\n    {\n      \"column\": \"tensor_name\",\n      \"properties\": {\n        \"dtype\": \"string\",\n        \"num_unique_values\": 114,\n        \"samples\": [\n          \"model_1/expanded_conv_8/squeeze_excite/Relu/Relu;model_1/expanded_conv_8/squeeze_excite/Conv/BiasAdd;model_1/expanded_conv_8/squeeze_excite/Conv/Conv2D;model_1/expanded_conv_8/squeeze_excite/Conv/BiasAdd/ReadVariableOp\",\n          \"model_1/expanded_conv/depthwise/pad/Pad\",\n          \"model_1/expanded_conv_4/project/BatchNorm/FusedBatchNormV3;model_1/expanded_conv_7/squeeze_excite/Conv/Conv2D;model_1/expanded_conv_4/project/Conv2D\"\n        ],\n        \"semantic_type\": \"\",\n        \"description\": \"\"\n      }\n    }\n  ]\n}"
            }
          },
          "metadata": {},
          "execution_count": 40
        }
      ]
    },
    {
      "cell_type": "code",
      "source": [
        "layer_stats['range'] = 255.0 * layer_stats['scale']\n",
        "layer_stats['rmse/scale'] = layer_stats.apply(\n",
        "    lambda row: np.sqrt(row['mean_squared_error']) / row['scale'], axis=1)\n",
        "layer_stats[['op_name', 'range', 'rmse/scale']].head()"
      ],
      "metadata": {
        "colab": {
          "base_uri": "https://localhost:8080/",
          "height": 206
        },
        "id": "1jzsBU6quo8_",
        "outputId": "b9d7ab94-dbbc-4a39-91da-da93fb941697"
      },
      "execution_count": 41,
      "outputs": [
        {
          "output_type": "execute_result",
          "data": {
            "text/plain": [
              "      op_name      range  rmse/scale\n",
              "0         MUL   3.000000    0.332139\n",
              "1         ADD   2.000000    0.289832\n",
              "2     CONV_2D  21.316819    0.291919\n",
              "3  HARD_SWISH  17.647997    0.279994\n",
              "4         PAD  17.647997    0.000006"
            ],
            "text/html": [
              "\n",
              "  <div id=\"df-3cc479ff-5c9e-414e-b493-6e44fc1b384c\" class=\"colab-df-container\">\n",
              "    <div>\n",
              "<style scoped>\n",
              "    .dataframe tbody tr th:only-of-type {\n",
              "        vertical-align: middle;\n",
              "    }\n",
              "\n",
              "    .dataframe tbody tr th {\n",
              "        vertical-align: top;\n",
              "    }\n",
              "\n",
              "    .dataframe thead th {\n",
              "        text-align: right;\n",
              "    }\n",
              "</style>\n",
              "<table border=\"1\" class=\"dataframe\">\n",
              "  <thead>\n",
              "    <tr style=\"text-align: right;\">\n",
              "      <th></th>\n",
              "      <th>op_name</th>\n",
              "      <th>range</th>\n",
              "      <th>rmse/scale</th>\n",
              "    </tr>\n",
              "  </thead>\n",
              "  <tbody>\n",
              "    <tr>\n",
              "      <th>0</th>\n",
              "      <td>MUL</td>\n",
              "      <td>3.000000</td>\n",
              "      <td>0.332139</td>\n",
              "    </tr>\n",
              "    <tr>\n",
              "      <th>1</th>\n",
              "      <td>ADD</td>\n",
              "      <td>2.000000</td>\n",
              "      <td>0.289832</td>\n",
              "    </tr>\n",
              "    <tr>\n",
              "      <th>2</th>\n",
              "      <td>CONV_2D</td>\n",
              "      <td>21.316819</td>\n",
              "      <td>0.291919</td>\n",
              "    </tr>\n",
              "    <tr>\n",
              "      <th>3</th>\n",
              "      <td>HARD_SWISH</td>\n",
              "      <td>17.647997</td>\n",
              "      <td>0.279994</td>\n",
              "    </tr>\n",
              "    <tr>\n",
              "      <th>4</th>\n",
              "      <td>PAD</td>\n",
              "      <td>17.647997</td>\n",
              "      <td>0.000006</td>\n",
              "    </tr>\n",
              "  </tbody>\n",
              "</table>\n",
              "</div>\n",
              "    <div class=\"colab-df-buttons\">\n",
              "\n",
              "  <div class=\"colab-df-container\">\n",
              "    <button class=\"colab-df-convert\" onclick=\"convertToInteractive('df-3cc479ff-5c9e-414e-b493-6e44fc1b384c')\"\n",
              "            title=\"Convert this dataframe to an interactive table.\"\n",
              "            style=\"display:none;\">\n",
              "\n",
              "  <svg xmlns=\"http://www.w3.org/2000/svg\" height=\"24px\" viewBox=\"0 -960 960 960\">\n",
              "    <path d=\"M120-120v-720h720v720H120Zm60-500h600v-160H180v160Zm220 220h160v-160H400v160Zm0 220h160v-160H400v160ZM180-400h160v-160H180v160Zm440 0h160v-160H620v160ZM180-180h160v-160H180v160Zm440 0h160v-160H620v160Z\"/>\n",
              "  </svg>\n",
              "    </button>\n",
              "\n",
              "  <style>\n",
              "    .colab-df-container {\n",
              "      display:flex;\n",
              "      gap: 12px;\n",
              "    }\n",
              "\n",
              "    .colab-df-convert {\n",
              "      background-color: #E8F0FE;\n",
              "      border: none;\n",
              "      border-radius: 50%;\n",
              "      cursor: pointer;\n",
              "      display: none;\n",
              "      fill: #1967D2;\n",
              "      height: 32px;\n",
              "      padding: 0 0 0 0;\n",
              "      width: 32px;\n",
              "    }\n",
              "\n",
              "    .colab-df-convert:hover {\n",
              "      background-color: #E2EBFA;\n",
              "      box-shadow: 0px 1px 2px rgba(60, 64, 67, 0.3), 0px 1px 3px 1px rgba(60, 64, 67, 0.15);\n",
              "      fill: #174EA6;\n",
              "    }\n",
              "\n",
              "    .colab-df-buttons div {\n",
              "      margin-bottom: 4px;\n",
              "    }\n",
              "\n",
              "    [theme=dark] .colab-df-convert {\n",
              "      background-color: #3B4455;\n",
              "      fill: #D2E3FC;\n",
              "    }\n",
              "\n",
              "    [theme=dark] .colab-df-convert:hover {\n",
              "      background-color: #434B5C;\n",
              "      box-shadow: 0px 1px 3px 1px rgba(0, 0, 0, 0.15);\n",
              "      filter: drop-shadow(0px 1px 2px rgba(0, 0, 0, 0.3));\n",
              "      fill: #FFFFFF;\n",
              "    }\n",
              "  </style>\n",
              "\n",
              "    <script>\n",
              "      const buttonEl =\n",
              "        document.querySelector('#df-3cc479ff-5c9e-414e-b493-6e44fc1b384c button.colab-df-convert');\n",
              "      buttonEl.style.display =\n",
              "        google.colab.kernel.accessAllowed ? 'block' : 'none';\n",
              "\n",
              "      async function convertToInteractive(key) {\n",
              "        const element = document.querySelector('#df-3cc479ff-5c9e-414e-b493-6e44fc1b384c');\n",
              "        const dataTable =\n",
              "          await google.colab.kernel.invokeFunction('convertToInteractive',\n",
              "                                                    [key], {});\n",
              "        if (!dataTable) return;\n",
              "\n",
              "        const docLinkHtml = 'Like what you see? Visit the ' +\n",
              "          '<a target=\"_blank\" href=https://colab.research.google.com/notebooks/data_table.ipynb>data table notebook</a>'\n",
              "          + ' to learn more about interactive tables.';\n",
              "        element.innerHTML = '';\n",
              "        dataTable['output_type'] = 'display_data';\n",
              "        await google.colab.output.renderOutput(dataTable, element);\n",
              "        const docLink = document.createElement('div');\n",
              "        docLink.innerHTML = docLinkHtml;\n",
              "        element.appendChild(docLink);\n",
              "      }\n",
              "    </script>\n",
              "  </div>\n",
              "\n",
              "\n",
              "<div id=\"df-afdec866-af01-401b-87b4-08be4c47d7e6\">\n",
              "  <button class=\"colab-df-quickchart\" onclick=\"quickchart('df-afdec866-af01-401b-87b4-08be4c47d7e6')\"\n",
              "            title=\"Suggest charts\"\n",
              "            style=\"display:none;\">\n",
              "\n",
              "<svg xmlns=\"http://www.w3.org/2000/svg\" height=\"24px\"viewBox=\"0 0 24 24\"\n",
              "     width=\"24px\">\n",
              "    <g>\n",
              "        <path d=\"M19 3H5c-1.1 0-2 .9-2 2v14c0 1.1.9 2 2 2h14c1.1 0 2-.9 2-2V5c0-1.1-.9-2-2-2zM9 17H7v-7h2v7zm4 0h-2V7h2v10zm4 0h-2v-4h2v4z\"/>\n",
              "    </g>\n",
              "</svg>\n",
              "  </button>\n",
              "\n",
              "<style>\n",
              "  .colab-df-quickchart {\n",
              "      --bg-color: #E8F0FE;\n",
              "      --fill-color: #1967D2;\n",
              "      --hover-bg-color: #E2EBFA;\n",
              "      --hover-fill-color: #174EA6;\n",
              "      --disabled-fill-color: #AAA;\n",
              "      --disabled-bg-color: #DDD;\n",
              "  }\n",
              "\n",
              "  [theme=dark] .colab-df-quickchart {\n",
              "      --bg-color: #3B4455;\n",
              "      --fill-color: #D2E3FC;\n",
              "      --hover-bg-color: #434B5C;\n",
              "      --hover-fill-color: #FFFFFF;\n",
              "      --disabled-bg-color: #3B4455;\n",
              "      --disabled-fill-color: #666;\n",
              "  }\n",
              "\n",
              "  .colab-df-quickchart {\n",
              "    background-color: var(--bg-color);\n",
              "    border: none;\n",
              "    border-radius: 50%;\n",
              "    cursor: pointer;\n",
              "    display: none;\n",
              "    fill: var(--fill-color);\n",
              "    height: 32px;\n",
              "    padding: 0;\n",
              "    width: 32px;\n",
              "  }\n",
              "\n",
              "  .colab-df-quickchart:hover {\n",
              "    background-color: var(--hover-bg-color);\n",
              "    box-shadow: 0 1px 2px rgba(60, 64, 67, 0.3), 0 1px 3px 1px rgba(60, 64, 67, 0.15);\n",
              "    fill: var(--button-hover-fill-color);\n",
              "  }\n",
              "\n",
              "  .colab-df-quickchart-complete:disabled,\n",
              "  .colab-df-quickchart-complete:disabled:hover {\n",
              "    background-color: var(--disabled-bg-color);\n",
              "    fill: var(--disabled-fill-color);\n",
              "    box-shadow: none;\n",
              "  }\n",
              "\n",
              "  .colab-df-spinner {\n",
              "    border: 2px solid var(--fill-color);\n",
              "    border-color: transparent;\n",
              "    border-bottom-color: var(--fill-color);\n",
              "    animation:\n",
              "      spin 1s steps(1) infinite;\n",
              "  }\n",
              "\n",
              "  @keyframes spin {\n",
              "    0% {\n",
              "      border-color: transparent;\n",
              "      border-bottom-color: var(--fill-color);\n",
              "      border-left-color: var(--fill-color);\n",
              "    }\n",
              "    20% {\n",
              "      border-color: transparent;\n",
              "      border-left-color: var(--fill-color);\n",
              "      border-top-color: var(--fill-color);\n",
              "    }\n",
              "    30% {\n",
              "      border-color: transparent;\n",
              "      border-left-color: var(--fill-color);\n",
              "      border-top-color: var(--fill-color);\n",
              "      border-right-color: var(--fill-color);\n",
              "    }\n",
              "    40% {\n",
              "      border-color: transparent;\n",
              "      border-right-color: var(--fill-color);\n",
              "      border-top-color: var(--fill-color);\n",
              "    }\n",
              "    60% {\n",
              "      border-color: transparent;\n",
              "      border-right-color: var(--fill-color);\n",
              "    }\n",
              "    80% {\n",
              "      border-color: transparent;\n",
              "      border-right-color: var(--fill-color);\n",
              "      border-bottom-color: var(--fill-color);\n",
              "    }\n",
              "    90% {\n",
              "      border-color: transparent;\n",
              "      border-bottom-color: var(--fill-color);\n",
              "    }\n",
              "  }\n",
              "</style>\n",
              "\n",
              "  <script>\n",
              "    async function quickchart(key) {\n",
              "      const quickchartButtonEl =\n",
              "        document.querySelector('#' + key + ' button');\n",
              "      quickchartButtonEl.disabled = true;  // To prevent multiple clicks.\n",
              "      quickchartButtonEl.classList.add('colab-df-spinner');\n",
              "      try {\n",
              "        const charts = await google.colab.kernel.invokeFunction(\n",
              "            'suggestCharts', [key], {});\n",
              "      } catch (error) {\n",
              "        console.error('Error during call to suggestCharts:', error);\n",
              "      }\n",
              "      quickchartButtonEl.classList.remove('colab-df-spinner');\n",
              "      quickchartButtonEl.classList.add('colab-df-quickchart-complete');\n",
              "    }\n",
              "    (() => {\n",
              "      let quickchartButtonEl =\n",
              "        document.querySelector('#df-afdec866-af01-401b-87b4-08be4c47d7e6 button');\n",
              "      quickchartButtonEl.style.display =\n",
              "        google.colab.kernel.accessAllowed ? 'block' : 'none';\n",
              "    })();\n",
              "  </script>\n",
              "</div>\n",
              "\n",
              "    </div>\n",
              "  </div>\n"
            ],
            "application/vnd.google.colaboratory.intrinsic+json": {
              "type": "dataframe",
              "summary": "{\n  \"name\": \"layer_stats[['op_name', 'range', 'rmse/scale']]\",\n  \"rows\": 5,\n  \"fields\": [\n    {\n      \"column\": \"op_name\",\n      \"properties\": {\n        \"dtype\": \"string\",\n        \"num_unique_values\": 5,\n        \"samples\": [\n          \"ADD\",\n          \"PAD\",\n          \"CONV_2D\"\n        ],\n        \"semantic_type\": \"\",\n        \"description\": \"\"\n      }\n    },\n    {\n      \"column\": \"range\",\n      \"properties\": {\n        \"dtype\": \"number\",\n        \"std\": 9.097837898460124,\n        \"min\": 2.0000001899999997,\n        \"max\": 21.31681935,\n        \"num_unique_values\": 4,\n        \"samples\": [\n          2.0000001899999997,\n          17.64799665,\n          3.00000003\n        ],\n        \"semantic_type\": \"\",\n        \"description\": \"\"\n      }\n    },\n    {\n      \"column\": \"rmse/scale\",\n      \"properties\": {\n        \"dtype\": \"number\",\n        \"std\": 0.13496073005061074,\n        \"min\": 5.8560498863859584e-06,\n        \"max\": 0.33213881001574663,\n        \"num_unique_values\": 5,\n        \"samples\": [\n          0.28983228426126234,\n          5.8560498863859584e-06,\n          0.29191864263421213\n        ],\n        \"semantic_type\": \"\",\n        \"description\": \"\"\n      }\n    }\n  ]\n}"
            }
          },
          "metadata": {},
          "execution_count": 41
        }
      ]
    },
    {
      "cell_type": "code",
      "source": [
        "plt.figure(figsize=(15, 5))\n",
        "ax1 = plt.subplot(121)\n",
        "ax1.bar(np.arange(len(layer_stats)), layer_stats['range'])\n",
        "ax1.set_ylabel('range')\n",
        "ax2 = plt.subplot(122)\n",
        "ax2.bar(np.arange(len(layer_stats)), layer_stats['rmse/scale'])\n",
        "ax2.set_ylabel('rmse/scale')\n",
        "plt.show()"
      ],
      "metadata": {
        "colab": {
          "base_uri": "https://localhost:8080/",
          "height": 373
        },
        "id": "ICOiTclgupjK",
        "outputId": "ecee302f-5291-4b32-e07f-b4c9f430f4a8"
      },
      "execution_count": 42,
      "outputs": [
        {
          "output_type": "display_data",
          "data": {
            "text/plain": [
              "<Figure size 1500x500 with 2 Axes>"
            ],
            "image/png": "[encoded data removed]"
          },
          "metadata": {}
        }
      ]
    },
    {
      "cell_type": "code",
      "source": [
        "suspected_layers = list(\n",
        "    layer_stats[layer_stats['rmse/scale'] > 0.5]['tensor_name'])\n",
        "\n",
        "suspected_layers.extend(list(layer_stats[:3]['tensor_name']))\n",
        "suspected_layers.extend(list(layer_stats[:-3]['tensor_name']))\n",
        "\n",
        "print(suspected_layers)"
      ],
      "metadata": {
        "colab": {
          "base_uri": "https://localhost:8080/"
        },
        "id": "Bq_GokO71WBr",
        "outputId": "9edf2a8d-0091-46ed-f10d-8b3db1478154"
      },
      "execution_count": 43,
      "outputs": [
        {
          "output_type": "stream",
          "name": "stdout",
          "text": [
            "['model_1/expanded_conv_1/project/BatchNorm/FusedBatchNormV3;model_1/expanded_conv_3/squeeze_excite/Conv/Conv2D;model_1/expanded_conv_1/project/Conv2D', 'model_1/expanded_conv_3/project/BatchNorm/FusedBatchNormV3;model_1/expanded_conv_7/squeeze_excite/Conv/Conv2D;model_1/expanded_conv_3/project/Conv2D', 'model_1/expanded_conv_4/squeeze_excite/Relu/Relu;model_1/expanded_conv_4/squeeze_excite/Conv/BiasAdd;model_1/expanded_conv_5/squeeze_excite/Conv/Conv2D;model_1/expanded_conv_4/squeeze_excite/Conv/Conv2D;model_1/expanded_conv_4/squeeze_excite/Conv/BiasAdd/ReadVariableOp', 'model_1/expanded_conv_8/squeeze_excite/Relu/Relu;model_1/expanded_conv_8/squeeze_excite/Conv/BiasAdd;model_1/expanded_conv_8/squeeze_excite/Conv/Conv2D;model_1/expanded_conv_8/squeeze_excite/Conv/BiasAdd/ReadVariableOp', 'model_1/rescaling_1/mul', 'model_1/rescaling_1/add', 'model_1/Conv/BatchNorm/FusedBatchNormV3;model_1/expanded_conv/project/Conv2D;model_1/Conv/Conv2D', 'model_1/rescaling_1/mul', 'model_1/rescaling_1/add', 'model_1/Conv/BatchNorm/FusedBatchNormV3;model_1/expanded_conv/project/Conv2D;model_1/Conv/Conv2D', 'model_1/multiply_18/mul;model_1/tf.__operators__.add_27/y;model_1/re_lu_32/Relu6;model_1/tf.__operators__.add_27/AddV2;model_1/tf.math.multiply_27/Mul/y;model_1/tf.math.multiply_27/Mul', 'model_1/expanded_conv/depthwise/pad/Pad', 'model_1/re_lu_33/Relu;model_1/expanded_conv/depthwise/BatchNorm/FusedBatchNormV3;model_1/expanded_conv/depthwise/depthwise;model_1/expanded_conv/project/Conv2D', 'model_1/expanded_conv/squeeze_excite/AvgPool/Mean', 'model_1/expanded_conv/squeeze_excite/Relu/Relu;model_1/expanded_conv/squeeze_excite/Conv/BiasAdd;model_1/expanded_conv/squeeze_excite/Conv/Conv2D;model_1/expanded_conv/squeeze_excite/Conv/BiasAdd/ReadVariableOp', 'model_1/re_lu_34/Relu6;model_1/tf.__operators__.add_28/AddV2;model_1/expanded_conv/squeeze_excite/Conv_1/BiasAdd/ReadVariableOp;model_1/expanded_conv/squeeze_excite/Conv_1/BiasAdd;model_1/expanded_conv/project/Conv2D;model_1/expanded_conv/squeeze_excite/Conv_1/Conv2D;model_1/tf.__operators__.add_27/y1', 'model_1/tf.math.multiply_28/Mul', 'model_1/expanded_conv/squeeze_excite/Mul/mul', 'model_1/expanded_conv/project/BatchNorm/FusedBatchNormV3;model_1/expanded_conv/project/Conv2D', 'model_1/re_lu_35/Relu;model_1/expanded_conv_1/expand/BatchNorm/FusedBatchNormV3;model_1/expanded_conv_8/squeeze_excite/Conv/Conv2D;model_1/expanded_conv_1/expand/Conv2D', 'model_1/expanded_conv_1/depthwise/pad/Pad', 'model_1/re_lu_36/Relu;model_1/expanded_conv_1/depthwise/BatchNorm/FusedBatchNormV3;model_1/expanded_conv_8/squeeze_excite/Conv/Conv2D;model_1/expanded_conv_1/depthwise/depthwise', 'model_1/expanded_conv_1/project/BatchNorm/FusedBatchNormV3;model_1/expanded_conv_3/squeeze_excite/Conv/Conv2D;model_1/expanded_conv_1/project/Conv2D', 'model_1/re_lu_37/Relu;model_1/expanded_conv_2/expand/BatchNorm/FusedBatchNormV3;model_1/expanded_conv_2/depthwise/depthwise;model_1/expanded_conv_2/expand/Conv2D', 'model_1/re_lu_38/Relu;model_1/expanded_conv_2/depthwise/BatchNorm/FusedBatchNormV3;model_1/expanded_conv_2/depthwise/depthwise', 'model_1/expanded_conv_2/project/BatchNorm/FusedBatchNormV3;model_1/expanded_conv_3/squeeze_excite/Conv/Conv2D;model_1/expanded_conv_2/project/Conv2D', 'model_1/expanded_conv_2/Add/add', 'model_1/expanded_conv_3/expand/BatchNorm/FusedBatchNormV3;model_1/expanded_conv_10/project/Conv2D;model_1/expanded_conv_3/expand/Conv2D', 'model_1/multiply_19/mul;model_1/tf.__operators__.add_27/y;model_1/re_lu_39/Relu6;model_1/tf.__operators__.add_29/AddV2;model_1/tf.math.multiply_27/Mul/y;model_1/tf.math.multiply_29/Mul', 'model_1/expanded_conv_3/depthwise/pad/Pad', 'model_1/expanded_conv_3/depthwise/BatchNorm/FusedBatchNormV3;model_1/expanded_conv_3/depthwise/depthwise;model_1/expanded_conv_10/project/Conv2D1', 'model_1/multiply_20/mul;model_1/tf.__operators__.add_27/y;model_1/re_lu_40/Relu6;model_1/tf.__operators__.add_30/AddV2;model_1/tf.math.multiply_27/Mul/y;model_1/tf.math.multiply_30/Mul', 'model_1/expanded_conv_3/squeeze_excite/AvgPool/Mean', 'model_1/expanded_conv_3/squeeze_excite/Relu/Relu;model_1/expanded_conv_3/squeeze_excite/Conv/BiasAdd;model_1/expanded_conv_3/squeeze_excite/Conv/Conv2D;model_1/expanded_conv_3/squeeze_excite/Conv/BiasAdd/ReadVariableOp', 'model_1/re_lu_41/Relu6;model_1/tf.__operators__.add_31/AddV2;model_1/expanded_conv_3/squeeze_excite/Conv_1/BiasAdd/ReadVariableOp;model_1/expanded_conv_3/squeeze_excite/Conv_1/BiasAdd;model_1/expanded_conv_10/project/Conv2D;model_1/expanded_conv_3/squeeze_excite/Conv_1/Conv2D;model_1/tf.__operators__.add_27/y1', 'model_1/tf.math.multiply_31/Mul', 'model_1/expanded_conv_3/squeeze_excite/Mul/mul', 'model_1/expanded_conv_3/project/BatchNorm/FusedBatchNormV3;model_1/expanded_conv_7/squeeze_excite/Conv/Conv2D;model_1/expanded_conv_3/project/Conv2D', 'model_1/expanded_conv_4/expand/BatchNorm/FusedBatchNormV3;model_1/expanded_conv_5/squeeze_excite/Conv_1/Conv2D;model_1/expanded_conv_4/expand/Conv2D', 'model_1/multiply_21/mul;model_1/tf.__operators__.add_27/y;model_1/re_lu_42/Relu6;model_1/tf.__operators__.add_32/AddV2;model_1/tf.math.multiply_27/Mul/y;model_1/tf.math.multiply_32/Mul', 'model_1/expanded_conv_4/depthwise/BatchNorm/FusedBatchNormV3;model_1/expanded_conv_4/depthwise/depthwise;model_1/expanded_conv_5/squeeze_excite/Conv_1/Conv2D1', 'model_1/multiply_22/mul;model_1/tf.__operators__.add_27/y;model_1/re_lu_43/Relu6;model_1/tf.__operators__.add_33/AddV2;model_1/tf.math.multiply_27/Mul/y;model_1/tf.math.multiply_33/Mul', 'model_1/expanded_conv_4/squeeze_excite/AvgPool/Mean', 'model_1/expanded_conv_4/squeeze_excite/Relu/Relu;model_1/expanded_conv_4/squeeze_excite/Conv/BiasAdd;model_1/expanded_conv_5/squeeze_excite/Conv/Conv2D;model_1/expanded_conv_4/squeeze_excite/Conv/Conv2D;model_1/expanded_conv_4/squeeze_excite/Conv/BiasAdd/ReadVariableOp', 'model_1/re_lu_44/Relu6;model_1/tf.__operators__.add_34/AddV2;model_1/expanded_conv_4/squeeze_excite/Conv_1/BiasAdd/ReadVariableOp;model_1/expanded_conv_4/squeeze_excite/Conv_1/BiasAdd;model_1/expanded_conv_5/squeeze_excite/Conv_1/Conv2D;model_1/expanded_conv_4/squeeze_excite/Conv_1/Conv2D;model_1/tf.__operators__.add_27/y1', 'model_1/tf.math.multiply_34/Mul', 'model_1/expanded_conv_4/squeeze_excite/Mul/mul', 'model_1/expanded_conv_4/project/BatchNorm/FusedBatchNormV3;model_1/expanded_conv_7/squeeze_excite/Conv/Conv2D;model_1/expanded_conv_4/project/Conv2D', 'model_1/expanded_conv_4/Add/add', 'model_1/expanded_conv_5/expand/BatchNorm/FusedBatchNormV3;model_1/expanded_conv_5/squeeze_excite/Conv_1/Conv2D;model_1/expanded_conv_5/expand/Conv2D', 'model_1/multiply_23/mul;model_1/tf.__operators__.add_27/y;model_1/re_lu_45/Relu6;model_1/tf.__operators__.add_35/AddV2;model_1/tf.math.multiply_27/Mul/y;model_1/tf.math.multiply_35/Mul', 'model_1/expanded_conv_5/depthwise/BatchNorm/FusedBatchNormV3;model_1/expanded_conv_5/squeeze_excite/Conv_1/Conv2D;model_1/expanded_conv_5/depthwise/depthwise', 'model_1/multiply_24/mul;model_1/tf.__operators__.add_27/y;model_1/re_lu_46/Relu6;model_1/tf.__operators__.add_36/AddV2;model_1/tf.math.multiply_27/Mul/y;model_1/tf.math.multiply_36/Mul', 'model_1/expanded_conv_5/squeeze_excite/AvgPool/Mean', 'model_1/expanded_conv_5/squeeze_excite/Relu/Relu;model_1/expanded_conv_5/squeeze_excite/Conv/BiasAdd;model_1/expanded_conv_5/squeeze_excite/Conv/Conv2D;model_1/expanded_conv_5/squeeze_excite/Conv/BiasAdd/ReadVariableOp', 'model_1/re_lu_47/Relu6;model_1/tf.__operators__.add_37/AddV2;model_1/expanded_conv_5/squeeze_excite/Conv_1/BiasAdd/ReadVariableOp;model_1/expanded_conv_5/squeeze_excite/Conv_1/BiasAdd;model_1/expanded_conv_5/squeeze_excite/Conv_1/Conv2D;model_1/tf.__operators__.add_27/y1', 'model_1/tf.math.multiply_37/Mul', 'model_1/expanded_conv_5/squeeze_excite/Mul/mul', 'model_1/expanded_conv_5/project/BatchNorm/FusedBatchNormV3;model_1/expanded_conv_7/squeeze_excite/Conv/Conv2D;model_1/expanded_conv_5/project/Conv2D', 'model_1/expanded_conv_5/Add/add', 'model_1/expanded_conv_6/expand/BatchNorm/FusedBatchNormV3;model_1/expanded_conv_6/squeeze_excite/Conv_1/Conv2D;model_1/expanded_conv_6/expand/Conv2D', 'model_1/multiply_25/mul;model_1/tf.__operators__.add_27/y;model_1/re_lu_48/Relu6;model_1/tf.__operators__.add_38/AddV2;model_1/tf.math.multiply_27/Mul/y;model_1/tf.math.multiply_38/Mul', 'model_1/expanded_conv_6/depthwise/BatchNorm/FusedBatchNormV3;model_1/expanded_conv_6/squeeze_excite/Conv_1/Conv2D;model_1/expanded_conv_6/depthwise/depthwise', 'model_1/multiply_26/mul;model_1/tf.__operators__.add_27/y;model_1/re_lu_49/Relu6;model_1/tf.__operators__.add_39/AddV2;model_1/tf.math.multiply_27/Mul/y;model_1/tf.math.multiply_39/Mul', 'model_1/expanded_conv_6/squeeze_excite/AvgPool/Mean', 'model_1/expanded_conv_6/squeeze_excite/Relu/Relu;model_1/expanded_conv_6/squeeze_excite/Conv/BiasAdd;model_1/expanded_conv_6/squeeze_excite/Conv/Conv2D;model_1/expanded_conv_6/squeeze_excite/Conv/BiasAdd/ReadVariableOp', 'model_1/re_lu_50/Relu6;model_1/tf.__operators__.add_40/AddV2;model_1/expanded_conv_6/squeeze_excite/Conv_1/BiasAdd/ReadVariableOp;model_1/expanded_conv_6/squeeze_excite/Conv_1/BiasAdd;model_1/expanded_conv_6/squeeze_excite/Conv_1/Conv2D;model_1/tf.__operators__.add_27/y1', 'model_1/tf.math.multiply_40/Mul', 'model_1/expanded_conv_6/squeeze_excite/Mul/mul', 'model_1/expanded_conv_6/project/BatchNorm/FusedBatchNormV3;model_1/expanded_conv_7/project/Conv2D;model_1/expanded_conv_6/project/Conv2D', 'model_1/expanded_conv_7/expand/BatchNorm/FusedBatchNormV3;model_1/expanded_conv_10/squeeze_excite/Conv/Conv2D;model_1/expanded_conv_7/expand/Conv2D', 'model_1/multiply_27/mul;model_1/tf.__operators__.add_27/y;model_1/re_lu_51/Relu6;model_1/tf.__operators__.add_41/AddV2;model_1/tf.math.multiply_27/Mul/y;model_1/tf.math.multiply_41/Mul', 'model_1/expanded_conv_7/depthwise/BatchNorm/FusedBatchNormV3;model_1/expanded_conv_10/squeeze_excite/Conv/Conv2D;model_1/expanded_conv_7/depthwise/depthwise', 'model_1/multiply_28/mul;model_1/tf.__operators__.add_27/y;model_1/re_lu_52/Relu6;model_1/tf.__operators__.add_42/AddV2;model_1/tf.math.multiply_27/Mul/y;model_1/tf.math.multiply_42/Mul', 'model_1/expanded_conv_7/squeeze_excite/AvgPool/Mean', 'model_1/expanded_conv_7/squeeze_excite/Relu/Relu;model_1/expanded_conv_7/squeeze_excite/Conv/BiasAdd;model_1/expanded_conv_7/squeeze_excite/Conv/Conv2D;model_1/expanded_conv_7/squeeze_excite/Conv/BiasAdd/ReadVariableOp', 'model_1/re_lu_53/Relu6;model_1/tf.__operators__.add_43/AddV2;model_1/expanded_conv_7/squeeze_excite/Conv_1/BiasAdd/ReadVariableOp;model_1/expanded_conv_7/squeeze_excite/Conv_1/BiasAdd;model_1/expanded_conv_10/squeeze_excite/Conv/Conv2D;model_1/expanded_conv_7/squeeze_excite/Conv_1/Conv2D;model_1/tf.__operators__.add_27/y1', 'model_1/tf.math.multiply_43/Mul', 'model_1/expanded_conv_7/squeeze_excite/Mul/mul', 'model_1/expanded_conv_7/project/BatchNorm/FusedBatchNormV3;model_1/expanded_conv_7/project/Conv2D', 'model_1/expanded_conv_7/Add/add', 'model_1/expanded_conv_8/expand/BatchNorm/FusedBatchNormV3;model_1/expanded_conv_8/squeeze_excite/Conv_1/Conv2D;model_1/expanded_conv_8/expand/Conv2D', 'model_1/multiply_29/mul;model_1/tf.__operators__.add_27/y;model_1/re_lu_54/Relu6;model_1/tf.__operators__.add_44/AddV2;model_1/tf.math.multiply_27/Mul/y;model_1/tf.math.multiply_44/Mul', 'model_1/expanded_conv_8/depthwise/pad/Pad', 'model_1/expanded_conv_8/depthwise/BatchNorm/FusedBatchNormV3;model_1/expanded_conv_8/squeeze_excite/Conv_1/Conv2D;model_1/expanded_conv_8/depthwise/depthwise', 'model_1/multiply_30/mul;model_1/tf.__operators__.add_27/y;model_1/re_lu_55/Relu6;model_1/tf.__operators__.add_45/AddV2;model_1/tf.math.multiply_27/Mul/y;model_1/tf.math.multiply_45/Mul', 'model_1/expanded_conv_8/squeeze_excite/AvgPool/Mean', 'model_1/expanded_conv_8/squeeze_excite/Relu/Relu;model_1/expanded_conv_8/squeeze_excite/Conv/BiasAdd;model_1/expanded_conv_8/squeeze_excite/Conv/Conv2D;model_1/expanded_conv_8/squeeze_excite/Conv/BiasAdd/ReadVariableOp', 'model_1/re_lu_56/Relu6;model_1/tf.__operators__.add_46/AddV2;model_1/expanded_conv_8/squeeze_excite/Conv_1/BiasAdd/ReadVariableOp;model_1/expanded_conv_8/squeeze_excite/Conv_1/BiasAdd;model_1/expanded_conv_8/squeeze_excite/Conv_1/Conv2D;model_1/tf.__operators__.add_27/y1', 'model_1/tf.math.multiply_46/Mul', 'model_1/expanded_conv_8/squeeze_excite/Mul/mul', 'model_1/expanded_conv_8/project/BatchNorm/FusedBatchNormV3;model_1/expanded_conv_10/project/Conv2D;model_1/expanded_conv_8/project/Conv2D', 'model_1/expanded_conv_9/expand/BatchNorm/FusedBatchNormV3;model_1/Conv_1/Conv2D;model_1/expanded_conv_9/expand/Conv2D', 'model_1/multiply_31/mul;model_1/tf.__operators__.add_27/y;model_1/re_lu_57/Relu6;model_1/tf.__operators__.add_47/AddV2;model_1/tf.math.multiply_27/Mul/y;model_1/tf.math.multiply_47/Mul', 'model_1/expanded_conv_9/depthwise/BatchNorm/FusedBatchNormV3;model_1/Conv_1/Conv2D;model_1/expanded_conv_9/depthwise/depthwise', 'model_1/multiply_32/mul;model_1/tf.__operators__.add_27/y;model_1/re_lu_58/Relu6;model_1/tf.__operators__.add_48/AddV2;model_1/tf.math.multiply_27/Mul/y;model_1/tf.math.multiply_48/Mul', 'model_1/expanded_conv_9/squeeze_excite/AvgPool/Mean', 'model_1/expanded_conv_9/squeeze_excite/Relu/Relu;model_1/expanded_conv_9/squeeze_excite/Conv/BiasAdd;model_1/expanded_conv_10/squeeze_excite/Conv/Conv2D;model_1/expanded_conv_9/squeeze_excite/Conv/Conv2D;model_1/expanded_conv_9/squeeze_excite/Conv/BiasAdd/ReadVariableOp', 'model_1/re_lu_59/Relu6;model_1/tf.__operators__.add_49/AddV2;model_1/expanded_conv_9/squeeze_excite/Conv_1/BiasAdd/ReadVariableOp;model_1/expanded_conv_9/squeeze_excite/Conv_1/BiasAdd;model_1/Conv_1/Conv2D;model_1/expanded_conv_9/squeeze_excite/Conv_1/Conv2D;model_1/tf.__operators__.add_27/y1', 'model_1/tf.math.multiply_49/Mul', 'model_1/expanded_conv_9/squeeze_excite/Mul/mul', 'model_1/expanded_conv_9/project/BatchNorm/FusedBatchNormV3;model_1/expanded_conv_10/project/Conv2D;model_1/expanded_conv_9/project/Conv2D', 'model_1/expanded_conv_9/Add/add', 'model_1/expanded_conv_10/expand/BatchNorm/FusedBatchNormV3;model_1/Conv_1/Conv2D;model_1/expanded_conv_10/expand/Conv2D', 'model_1/multiply_33/mul;model_1/tf.__operators__.add_27/y;model_1/re_lu_60/Relu6;model_1/tf.__operators__.add_50/AddV2;model_1/tf.math.multiply_27/Mul/y;model_1/tf.math.multiply_50/Mul', 'model_1/expanded_conv_10/depthwise/BatchNorm/FusedBatchNormV3;model_1/Conv_1/Conv2D;model_1/expanded_conv_10/depthwise/depthwise', 'model_1/multiply_34/mul;model_1/tf.__operators__.add_27/y;model_1/re_lu_61/Relu6;model_1/tf.__operators__.add_51/AddV2;model_1/tf.math.multiply_27/Mul/y;model_1/tf.math.multiply_51/Mul', 'model_1/expanded_conv_10/squeeze_excite/AvgPool/Mean', 'model_1/expanded_conv_10/squeeze_excite/Relu/Relu;model_1/expanded_conv_10/squeeze_excite/Conv/BiasAdd;model_1/expanded_conv_10/squeeze_excite/Conv/Conv2D;model_1/expanded_conv_10/squeeze_excite/Conv/BiasAdd/ReadVariableOp', 'model_1/re_lu_62/Relu6;model_1/tf.__operators__.add_52/AddV2;model_1/expanded_conv_10/squeeze_excite/Conv_1/BiasAdd/ReadVariableOp;model_1/expanded_conv_10/squeeze_excite/Conv_1/BiasAdd;model_1/Conv_1/Conv2D;model_1/expanded_conv_10/squeeze_excite/Conv_1/Conv2D;model_1/tf.__operators__.add_27/y1', 'model_1/tf.math.multiply_52/Mul', 'model_1/expanded_conv_10/squeeze_excite/Mul/mul', 'model_1/expanded_conv_10/project/BatchNorm/FusedBatchNormV3;model_1/expanded_conv_10/project/Conv2D', 'model_1/expanded_conv_10/Add/add', 'model_1/Conv_1/BatchNorm/FusedBatchNormV3;model_1/Conv_1/Conv2D', 'model_1/multiply_35/mul;model_1/tf.__operators__.add_27/y;model_1/re_lu_63/Relu6;model_1/tf.__operators__.add_53/AddV2;model_1/tf.math.multiply_27/Mul/y;model_1/tf.math.multiply_53/Mul', 'model_1/global_average_pooling2d_1/Mean', 'model_1/dense_3/MatMul;model_1/dense_3/Relu;model_1/dense_3/BiasAdd']\n"
          ]
        }
      ]
    },
    {
      "cell_type": "code",
      "source": [
        "debug_options = tf.lite.experimental.QuantizationDebugOptions(\n",
        "    denylisted_nodes=suspected_layers)\n",
        "debugger = tf.lite.experimental.QuantizationDebugger(\n",
        "    converter=converter,\n",
        "    debug_dataset=representative_data_gen,\n",
        "    debug_options=debug_options)"
      ],
      "metadata": {
        "colab": {
          "base_uri": "https://localhost:8080/"
        },
        "id": "1c0Rz_mD1k6y",
        "outputId": "481338de-02f1-4d50-ca21-e8ec1285aca7"
      },
      "execution_count": 44,
      "outputs": [
        {
          "output_type": "stream",
          "name": "stderr",
          "text": [
            "/usr/local/lib/python3.10/dist-packages/tensorflow/lite/python/convert.py:953: UserWarning: Statistics for quantized inputs were expected, but not specified; continuing anyway.\n",
            "  warnings.warn(\n"
          ]
        }
      ]
    },
    {
      "cell_type": "code",
      "source": [
        "selective_quantized_model = debugger.get_nondebug_quantized_model()\n",
        "# Save the quantized model to a file\n",
        "with open('selective_quantized_{}_cifar10_model.tflite'.format(model_type), 'wb') as f:\n",
        "    f.write(tflite_int16_model)\n",
        "\n",
        "print(\"Quantized model saved as selective_quantized_{}_cifar10_model.tflite\".format(model_type))"
      ],
      "metadata": {
        "colab": {
          "base_uri": "https://localhost:8080/"
        },
        "id": "1n669BNc1ty9",
        "outputId": "e61580ea-0a57-4f1e-b30a-945bc723d8ae"
      },
      "execution_count": 45,
      "outputs": [
        {
          "output_type": "stream",
          "name": "stdout",
          "text": [
            "Quantized model saved as selective_quantized_MobileNetV3Small_cifar10_model.tflite\n"
          ]
        }
      ]
    },
    {
      "cell_type": "code",
      "source": [
        "print(\"Selective Quantization (FP132 + INT8) Accuracy\")\n",
        "evaluate_quant_model(selective_quantized_model)"
      ],
      "metadata": {
        "colab": {
          "base_uri": "https://localhost:8080/"
        },
        "id": "RxKgmvlq5wyu",
        "outputId": "9a8c055c-a08f-4223-c01c-cb75a636397e"
      },
      "execution_count": 46,
      "outputs": [
        {
          "output_type": "stream",
          "name": "stdout",
          "text": [
            "Selective Quantization (FP132 + INT8) Accuracy\n"
          ]
        },
        {
          "output_type": "stream",
          "name": "stderr",
          "text": [
            "10000it [00:18, 547.67it/s]"
          ]
        },
        {
          "output_type": "stream",
          "name": "stdout",
          "text": [
            "Accuracy: 0.8347\n"
          ]
        },
        {
          "output_type": "stream",
          "name": "stderr",
          "text": [
            "\n"
          ]
        }
      ]
    },
    {
      "cell_type": "code",
      "source": [
        "# Load the quantized model\n",
        "interpreter = tf.lite.Interpreter(model_content=tflite_fp16_model)\n",
        "interpreter.allocate_tensors()\n",
        "\n",
        "# Get input and output details\n",
        "input_details = interpreter.get_input_details()[0]\n",
        "output_details = interpreter.get_output_details()[0]\n",
        "print(input_details['shape'])\n",
        "# Evaluate the model on the test dataset\n",
        "total_accuracy = 0.0\n",
        "num_eval_samples = 0\n",
        "\n",
        "for test_image, test_label in tqdm(zip(test_images, test_labels)):\n",
        "# for test_image, test_label in test_dataset:\n",
        "    # Check if the input type is quantized, then rescale input data to uint8\n",
        "    if input_details['dtype'] == np.uint8:\n",
        "      input_scale, input_zero_point = input_details[\"quantization\"]\n",
        "      test_image = test_image / input_scale + input_zero_point\n",
        "\n",
        "    # Add batch dimension\n",
        "    # print(test_image.shape)\n",
        "    test_image = np.expand_dims(test_image.numpy(), axis=0).astype(input_details[\"dtype\"])\n",
        "\n",
        "    interpreter.set_tensor(input_details['index'], test_image)\n",
        "    interpreter.invoke()\n",
        "\n",
        "    # Get output tensor\n",
        "    output = interpreter.get_tensor(output_details['index'])\n",
        "\n",
        "    # Compare prediction to true label\n",
        "    predicted_label = np.argmax(output)\n",
        "    true_label = np.argmax(test_label)\n",
        "    if predicted_label == true_label:\n",
        "        total_accuracy += 1\n",
        "\n",
        "    num_eval_samples += 1\n",
        "\n",
        "# Calculate overall accuracy\n",
        "accuracy = total_accuracy / num_eval_samples\n",
        "print(\"Accuracy:\", accuracy)"
      ],
      "metadata": {
        "colab": {
          "base_uri": "https://localhost:8080/"
        },
        "id": "qzorHmTll3_R",
        "outputId": "62889e48-6154-4fa9-84ae-032996e44801"
      },
      "execution_count": 39,
      "outputs": [
        {
          "output_type": "stream",
          "name": "stdout",
          "text": [
            "[  1 112 112   3]\n"
          ]
        },
        {
          "output_type": "stream",
          "name": "stderr",
          "text": [
            "10000it [08:03, 20.67it/s]"
          ]
        },
        {
          "output_type": "stream",
          "name": "stdout",
          "text": [
            "Accuracy: 0.8028\n"
          ]
        },
        {
          "output_type": "stream",
          "name": "stderr",
          "text": [
            "\n"
          ]
        }
      ]
    }
  ],
  "metadata": {
    "colab": {
      "provenance": [],
      "machine_shape": "hm",
      "gpuType": "V100"
    },
    "kernelspec": {
      "display_name": "Python 3",
      "name": "python3"
    },
    "language_info": {
      "name": "python"
    },
    "accelerator": "GPU"
  },
  "nbformat": 4,
  "nbformat_minor": 0
}